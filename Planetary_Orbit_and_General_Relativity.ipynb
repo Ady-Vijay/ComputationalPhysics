{
  "nbformat": 4,
  "nbformat_minor": 0,
  "metadata": {
    "colab": {
      "provenance": []
    },
    "kernelspec": {
      "name": "python3",
      "display_name": "Python 3"
    },
    "language_info": {
      "name": "python"
    }
  },
  "cells": [
    {
      "cell_type": "markdown",
      "source": [],
      "metadata": {
        "id": "bfBE0UpeSIgx"
      }
    },
    {
      "cell_type": "markdown",
      "source": [
        "Mercury Orbit and General Relativity"
      ],
      "metadata": {
        "id": "ld9EIF_qSLM-"
      }
    },
    {
      "cell_type": "code",
      "execution_count": null,
      "metadata": {
        "id": "_z1sfl3xSGKE"
      },
      "outputs": [],
      "source": [
        "import math\n",
        "import numpy as np\n",
        "import matplotlib.pyplot as plt\n",
        "Mmercury = 1.651*10**-7"
      ]
    },
    {
      "cell_type": "code",
      "source": [
        "def Fg(x,y):\n",
        "  R = x**2+y**2\n",
        "  Fg = (4*math.pi**2*Mmercury)/R\n",
        "  return Fg"
      ],
      "metadata": {
        "id": "mdYFsvVFSilj"
      },
      "execution_count": null,
      "outputs": []
    },
    {
      "cell_type": "code",
      "source": [
        "def Vo():\n",
        "  a = Fg(.39,0)/Mmercury\n",
        "  v = math.sqrt(.39*a)\n",
        "  return v\n",
        "\n",
        "Vo()"
      ],
      "metadata": {
        "id": "7x2gaN12Zn1Q",
        "colab": {
          "base_uri": "https://localhost:8080/"
        },
        "outputId": "2c978f04-b99c-4498-e03e-fe62c3209709"
      },
      "execution_count": null,
      "outputs": [
        {
          "output_type": "execute_result",
          "data": {
            "text/plain": [
              "10.061148632539163"
            ]
          },
          "metadata": {},
          "execution_count": 498
        }
      ]
    },
    {
      "cell_type": "markdown",
      "source": [
        "I calculated the initial velocity using the centripital acceleration formula of V^2/r = a to figure out the initial velocity."
      ],
      "metadata": {
        "id": "cYUySE-VcPB9"
      }
    },
    {
      "cell_type": "code",
      "source": [
        "Vo()"
      ],
      "metadata": {
        "colab": {
          "base_uri": "https://localhost:8080/"
        },
        "id": "kv1HGrxdaLJu",
        "outputId": "98117093-fa77-424f-d72c-96c90d73b5ac"
      },
      "execution_count": null,
      "outputs": [
        {
          "output_type": "execute_result",
          "data": {
            "text/plain": [
              "10.061148632539163"
            ]
          },
          "metadata": {},
          "execution_count": 499
        }
      ]
    },
    {
      "cell_type": "code",
      "source": [
        "Vy = [Vo()]\n",
        "Vx = [0]\n",
        "X = [.39]\n",
        "Y = [0]\n",
        "Ax = [(-Fg(.39,0)/Mmercury)*X[0]/.39**2]\n",
        "Ay = [(-Fg(.39,0)/Mmercury)*Y[0]/.39**2]\n",
        "\n",
        "for t in range(24500):\n",
        "  Vx.append(Vx[len(Vx)-1] + Ax[len(Ax)-1]*.0001)\n",
        "  Vy.append(Vy[len(Vy)-1] + Ay[len(Ay)-1]*.0001)\n",
        "  X.append(X[len(X)-1] + Vx[len(Vx)-1]*.0001)\n",
        "  Y.append(Y[len(Y)-1] + Vy[len(Vy)-1]*.0001)\n",
        "  Ax.append((-Fg(.39,0)/Mmercury)*X[len(X)-1]/math.sqrt((X[len(X)-1]**2)+(Y[len(Y)-1]**2)))\n",
        "  Ay.append((-Fg(.39,0)/Mmercury)*Y[len(Y)-1]/math.sqrt((X[len(X)-1]**2)+(Y[len(Y)-1]**2)))\n",
        "\n",
        "fig = plt.figure()\n",
        "ax = fig.add_subplot()\n",
        "plt.plot(X,Y,\"k\")\n",
        "\n",
        "ax.set_aspect('equal', adjustable='box')"
      ],
      "metadata": {
        "colab": {
          "base_uri": "https://localhost:8080/",
          "height": 265
        },
        "id": "XiUrztPmaOC0",
        "outputId": "bb476b63-0d0d-4258-dbe7-25b1810e033b"
      },
      "execution_count": null,
      "outputs": [
        {
          "output_type": "display_data",
          "data": {
            "text/plain": [
              "<Figure size 432x288 with 1 Axes>"
            ],
            "image/png": "[encoded data removed]"
          },
          "metadata": {
            "needs_background": "light"
          }
        }
      ]
    },
    {
      "cell_type": "markdown",
      "source": [
        "This calculates the elliptical velocity for Mercury analytically using the vis-viva equation\n",
        "\n"
      ],
      "metadata": {
        "id": "-bPnDeVt2M6h"
      }
    },
    {
      "cell_type": "code",
      "source": [
        "def EllipV(x):\n",
        "  V = 4*math.pi**2*((2/x)-(1/.39))\n",
        "  return(math.sqrt(V))\n",
        "\n",
        "EllipV(.47)"
      ],
      "metadata": {
        "colab": {
          "base_uri": "https://localhost:8080/"
        },
        "id": "CMdtpFCmjl_M",
        "outputId": "7a261e46-a83c-4508-d8df-3a91b96ce85b"
      },
      "execution_count": null,
      "outputs": [
        {
          "output_type": "execute_result",
          "data": {
            "text/plain": [
              "8.171080381166023"
            ]
          },
          "metadata": {},
          "execution_count": 566
        }
      ]
    },
    {
      "cell_type": "code",
      "source": [
        "Vy = [EllipV(.47)]\n",
        "Vx = [0]\n",
        "\n",
        "X = [.47]\n",
        "Y = [0]\n",
        "Ax = [(-Fg(.47,0)/Mmercury)*X[0]/(.47)]\n",
        "Ay = [(-Fg(.47,0)/Mmercury)*Y[0]/(.47)]\n",
        "e = .206\n",
        "\n",
        "for t in range(1000):\n",
        "  Vx.append(Vx[len(Vx)-1] + Ax[len(Ax)-1]*.001)\n",
        "  Vy.append(Vy[len(Vy)-1] + Ay[len(Ay)-1]*.001)\n",
        "  X.append(X[len(X)-1] + Vx[len(Vx)-1]*.001)\n",
        "  Y.append(Y[len(Y)-1] + Vy[len(Vy)-1]*.001)\n",
        "  Ax.append((-Fg(X[len(X)-1],Y[len(Y)-1])/Mmercury)*X[len(X)-1]/math.sqrt((X[len(X)-1]**2)+(Y[len(Y)-1]**2)))\n",
        "  Ay.append((-Fg(X[len(X)-1],Y[len(Y)-1])/Mmercury)*Y[len(Y)-1]/math.sqrt((X[len(X)-1]**2)+(Y[len(Y)-1]**2)))\n",
        "\n",
        "fig = plt.figure()\n",
        "ax = fig.add_subplot()\n",
        "plt.plot(X,Y,\"k\")\n",
        "\n",
        "ax.set_aspect('equal', adjustable='box')\n",
        "plt.show()"
      ],
      "metadata": {
        "colab": {
          "base_uri": "https://localhost:8080/",
          "height": 265
        },
        "id": "QkDwLsfchOUW",
        "outputId": "3ef321a4-4552-421d-9931-780fc85d9136"
      },
      "execution_count": null,
      "outputs": [
        {
          "output_type": "display_data",
          "data": {
            "text/plain": [
              "<Figure size 432x288 with 1 Axes>"
            ],
            "image/png": "[encoded data removed]"
          },
          "metadata": {
            "needs_background": "light"
          }
        }
      ]
    },
    {
      "cell_type": "code",
      "source": [
        "def Fg(x,y):\n",
        "  R = x**2+y**2\n",
        "  Fg = (4*math.pi**2*Mmercury)*(1+.001/R)/R\n",
        "  return Fg"
      ],
      "metadata": {
        "id": "u_Jz2LdRkwJn"
      },
      "execution_count": null,
      "outputs": []
    },
    {
      "cell_type": "code",
      "source": [
        "Vy = [EllipV(.47)]\n",
        "Vx = [0]\n",
        "Theta = []\n",
        "X = [.47]\n",
        "Y = [0]\n",
        "Ax = [(-Fg(.47,0)/Mmercury)*X[0]/(.47)**2]\n",
        "Ay = [(-Fg(.47,0)/Mmercury)*Y[0]/(.47)**2]\n",
        "e = .206\n",
        "T = []\n",
        "\n",
        "for t in range(2500):\n",
        "  Vx.append(Vx[len(Vx)-1] + Ax[len(Ax)-1]*.001)\n",
        "  Vy.append(Vy[len(Vy)-1] + Ay[len(Ay)-1]*.001)\n",
        "  X.append(X[len(X)-1] + Vx[len(Vx)-1]*.001)\n",
        "  Y.append(Y[len(Y)-1] + Vy[len(Vy)-1]*.001)\n",
        "  Ax.append((-Fg(X[len(X)-1],Y[len(Y)-1])/Mmercury)*X[len(X)-1]/math.sqrt((X[len(X)-1]**2)+(Y[len(Y)-1]**2)))\n",
        "  Ay.append((-Fg(X[len(X)-1],Y[len(Y)-1])/Mmercury)*Y[len(Y)-1]/math.sqrt((X[len(X)-1]**2)+(Y[len(Y)-1]**2)))\n",
        "  if(len(X) > 2):\n",
        "    if(X[len(X)-3]**2 + Y[len(Y)-3]**2 < X[len(X)-2]**2 + Y[len(Y)-2]**2 and X[len(X)-1]**2 + Y[len(Y)-1]**2 < X[len(X)-2]**2 + Y[len(Y)-2]**2 and math.sqrt(X[len(X)-2]**2 + Y[len(Y)-2]**2) >= .47):\n",
        "      if(math.atan2(Y[len(Y)-2],X[len(X)-2])*180/math.pi < 0):\n",
        "        Theta.append(math.atan2(Y[len(Y)-2],X[len(X)-2])*180/math.pi + 360)\n",
        "        T.append(t*.001)\n",
        "      else:\n",
        "        Theta.append(math.atan2(Y[len(Y)-2],X[len(X)-2])*180/math.pi)\n",
        "        T.append(t*.001)\n",
        "\n",
        "fig = plt.figure()\n",
        "ax = fig.add_subplot()\n",
        "plt.plot(X,Y,\"k\")\n",
        "\n",
        "ax.set_aspect('equal', adjustable='box')\n",
        "plt.show()\n",
        "Theta.pop(0)\n",
        "T.pop(0)\n",
        "Theta.pop(0)\n",
        "T.pop(0)\n",
        "Theta.pop(0)\n",
        "T.pop(0)\n",
        "print(Theta)\n",
        "print(Theta)"
      ],
      "metadata": {
        "colab": {
          "base_uri": "https://localhost:8080/",
          "height": 320
        },
        "id": "3stpOEQd21bA",
        "outputId": "a8d4f747-c5d1-4a2f-de67-daa1e9e9467a"
      },
      "execution_count": null,
      "outputs": [
        {
          "output_type": "display_data",
          "data": {
            "text/plain": [
              "<Figure size 432x288 with 1 Axes>"
            ],
            "image/png": "[encoded data removed]"
          },
          "metadata": {
            "needs_background": "light"
          }
        },
        {
          "output_type": "stream",
          "name": "stdout",
          "text": [
            "[2.468781909191425, 5.0718133478635, 7.674844800821708, 10.277876289157124, 12.88090783396219, 15.483939456329518, 18.086971177351575]\n",
            "[2.468781909191425, 5.0718133478635, 7.674844800821708, 10.277876289157124, 12.88090783396219, 15.483939456329518, 18.086971177351575]\n"
          ]
        }
      ]
    },
    {
      "cell_type": "code",
      "source": [
        "a, b = np.polyfit(T,Theta,1)\n",
        "plt.scatter(T,Theta)\n",
        "Fit = []\n",
        "for i in T:\n",
        "  Fit.append(a*i+b)\n",
        "plt.plot(T, Fit)\n",
        "\n",
        "print(a)"
      ],
      "metadata": {
        "colab": {
          "base_uri": "https://localhost:8080/",
          "height": 282
        },
        "id": "XBMpAFyn3JxR",
        "outputId": "cf974d10-a6d7-4ceb-ed04-2778424edb05"
      },
      "execution_count": null,
      "outputs": [
        {
          "output_type": "stream",
          "name": "stdout",
          "text": [
            "10.712063940998378\n"
          ]
        },
        {
          "output_type": "display_data",
          "data": {
            "text/plain": [
              "<Figure size 432x288 with 1 Axes>"
            ],
            "image/png": "[encoded data removed]"
          },
          "metadata": {
            "needs_background": "light"
          }
        }
      ]
    },
    {
      "cell_type": "code",
      "source": [
        "def Fg(x,y):\n",
        "  R = x**2+y**2\n",
        "  Fg = (4*math.pi**2*Mmercury)*(1+.002/R)/R\n",
        "  return Fg"
      ],
      "metadata": {
        "id": "vTPIpRAmPZfw"
      },
      "execution_count": null,
      "outputs": []
    },
    {
      "cell_type": "code",
      "source": [
        "Vy = [EllipV(.47)]\n",
        "Vx = [0]\n",
        "Theta = []\n",
        "X = [.47]\n",
        "Y = [0]\n",
        "Ax = [(-Fg(.47,0)/Mmercury)*X[0]/(.47)**2]\n",
        "Ay = [(-Fg(.47,0)/Mmercury)*Y[0]/(.47)**2]\n",
        "e = .206\n",
        "T = []\n",
        "\n",
        "for t in range(1000):\n",
        "  Vx.append(Vx[len(Vx)-1] + Ax[len(Ax)-1]*.001)\n",
        "  Vy.append(Vy[len(Vy)-1] + Ay[len(Ay)-1]*.001)\n",
        "  X.append(X[len(X)-1] + Vx[len(Vx)-1]*.001)\n",
        "  Y.append(Y[len(Y)-1] + Vy[len(Vy)-1]*.001)\n",
        "  Ax.append((-Fg(X[len(X)-1],Y[len(Y)-1])/Mmercury)*X[len(X)-1]/math.sqrt((X[len(X)-1]**2)+(Y[len(Y)-1]**2)))\n",
        "  Ay.append((-Fg(X[len(X)-1],Y[len(Y)-1])/Mmercury)*Y[len(Y)-1]/math.sqrt((X[len(X)-1]**2)+(Y[len(Y)-1]**2)))\n",
        "  if(len(X) > 2):\n",
        "    if(X[len(X)-3]**2 + Y[len(Y)-3]**2 < X[len(X)-2]**2 + Y[len(Y)-2]**2 and X[len(X)-1]**2 + Y[len(Y)-1]**2 < X[len(X)-2]**2 + Y[len(Y)-2]**2 and math.sqrt(X[len(X)-2]**2 + Y[len(Y)-2]**2) >= .47):\n",
        "      if(math.atan2(Y[len(Y)-2],X[len(X)-2])*180/math.pi < 0):\n",
        "        Theta.append(math.atan2(Y[len(Y)-2],X[len(X)-2])*180/math.pi + 360)\n",
        "      else:\n",
        "        Theta.append(math.atan2(Y[len(Y)-2],X[len(X)-2])*180/math.pi)\n",
        "      T.append(t*.001)\n",
        "\n",
        "fig = plt.figure()\n",
        "ax = fig.add_subplot()\n",
        "plt.plot(X,Y,\"k\")\n",
        "\n",
        "ax.set_aspect('equal', adjustable='box')\n",
        "plt.show()\n",
        "Theta.pop(0)\n",
        "T.pop(0)\n",
        "print(Theta)\n",
        "print(Theta)"
      ],
      "metadata": {
        "colab": {
          "base_uri": "https://localhost:8080/",
          "height": 300
        },
        "id": "9H0a4O3x5cm_",
        "outputId": "c8591a0a-ab06-4920-b8a4-5b7fef2a7fcb"
      },
      "execution_count": null,
      "outputs": [
        {
          "output_type": "display_data",
          "data": {
            "text/plain": [
              "<Figure size 432x288 with 1 Axes>"
            ],
            "image/png": "[encoded data removed]"
          },
          "metadata": {
            "needs_background": "light"
          }
        },
        {
          "output_type": "stream",
          "name": "stdout",
          "text": [
            "[2.505350638244515, 7.729754945551997, 13.945587091014122]\n",
            "[2.505350638244515, 7.729754945551997, 13.945587091014122]\n"
          ]
        }
      ]
    },
    {
      "cell_type": "code",
      "source": [
        "a2, b = np.polyfit(T,Theta,1)\n",
        "plt.scatter(T,Theta)\n",
        "Fit = []\n",
        "for i in T:\n",
        "  Fit.append(a2*i+b)\n",
        "plt.plot(T, Fit)\n",
        "\n",
        "print(a2)"
      ],
      "metadata": {
        "colab": {
          "base_uri": "https://localhost:8080/",
          "height": 282
        },
        "id": "OXlnPxxKPcPQ",
        "outputId": "daca98c9-ac84-4aa4-da53-002593436434"
      },
      "execution_count": null,
      "outputs": [
        {
          "output_type": "stream",
          "name": "stdout",
          "text": [
            "23.589487904672858\n"
          ]
        },
        {
          "output_type": "display_data",
          "data": {
            "text/plain": [
              "<Figure size 432x288 with 1 Axes>"
            ],
            "image/png": "[encoded data removed]"
          },
          "metadata": {
            "needs_background": "light"
          }
        }
      ]
    },
    {
      "cell_type": "code",
      "source": [
        "def Fg(x,y):\n",
        "  R = x**2+y**2\n",
        "  Fg = (4*math.pi**2*Mmercury)/R*(1+(.0001/R))\n",
        "  return Fg"
      ],
      "metadata": {
        "id": "pussaAtLPe64"
      },
      "execution_count": null,
      "outputs": []
    },
    {
      "cell_type": "code",
      "source": [
        "Vy = [EllipV(.47)]\n",
        "Vx = [0]\n",
        "Theta = []\n",
        "X = [.47]\n",
        "Y = [0]\n",
        "Ax = [(-Fg(.47,0)/Mmercury)*X[0]/(.47)**2]\n",
        "Ay = [(-Fg(.47,0)/Mmercury)*Y[0]/(.47)**2]\n",
        "e = .206\n",
        "T = []\n",
        "\n",
        "for t in range(2800):\n",
        "  Vx.append(Vx[len(Vx)-1] + Ax[len(Ax)-1]*.001)\n",
        "  Vy.append(Vy[len(Vy)-1] + Ay[len(Ay)-1]*.001)\n",
        "  X.append(X[len(X)-1] + Vx[len(Vx)-1]*.001)\n",
        "  Y.append(Y[len(Y)-1] + Vy[len(Vy)-1]*.001)\n",
        "  Ax.append((-Fg(X[len(X)-1],Y[len(Y)-1])/Mmercury)*X[len(X)-1]/math.sqrt((X[len(X)-1]**2)+(Y[len(Y)-1]**2)))\n",
        "  Ay.append((-Fg(X[len(X)-1],Y[len(Y)-1])/Mmercury)*Y[len(Y)-1]/math.sqrt((X[len(X)-1]**2)+(Y[len(Y)-1]**2)))\n",
        "  if(len(X) > 2):\n",
        "    if(X[len(X)-3]**2 + Y[len(Y)-3]**2 < X[len(X)-2]**2 + Y[len(Y)-2]**2 and X[len(X)-1]**2 + Y[len(Y)-1]**2 < X[len(X)-2]**2 + Y[len(Y)-2]**2 and math.sqrt(X[len(X)-2]**2 + Y[len(Y)-2]**2) >= .47):\n",
        "      if(math.atan2(Y[len(Y)-2],X[len(X)-2])*180/math.pi < 0):\n",
        "        Theta.append(math.atan2(Y[len(Y)-2],X[len(X)-2])*180/math.pi + 360)\n",
        "      else:\n",
        "        Theta.append(math.atan2(Y[len(Y)-2],X[len(X)-2])*180/math.pi)\n",
        "      T.append(t*.001)\n",
        "\n",
        "fig = plt.figure()\n",
        "ax = fig.add_subplot()\n",
        "plt.plot(X,Y,\"k\")\n",
        "\n",
        "ax.set_aspect('equal', adjustable='box')\n",
        "plt.show()\n",
        "\n",
        "Theta.pop(0)\n",
        "T.pop(0)\n",
        "Theta.pop(0)\n",
        "T.pop(0)\n",
        "Theta.pop(0)\n",
        "T.pop(0)\n",
        "Theta.pop(0)\n",
        "T.pop(0)\n",
        "\n",
        "Theta.pop(0)\n",
        "T.pop(0)\n",
        "Theta.pop(0)\n",
        "T.pop(0)\n",
        "print(Theta)\n",
        "print(Theta)"
      ],
      "metadata": {
        "colab": {
          "base_uri": "https://localhost:8080/",
          "height": 321
        },
        "id": "WrQ40oMHPnmY",
        "outputId": "14f2e9aa-ecc2-4a11-c4cd-a9aea79c1bbb"
      },
      "execution_count": null,
      "outputs": [
        {
          "output_type": "display_data",
          "data": {
            "text/plain": [
              "<Figure size 432x288 with 1 Axes>"
            ],
            "image/png": "[encoded data removed]"
          },
          "metadata": {
            "needs_background": "light"
          }
        },
        {
          "output_type": "stream",
          "name": "stdout",
          "text": [
            "[353.00991693875255, 353.42931600671847, 353.84871305065315, 354.2681100187139, 354.68750885905683]\n",
            "[353.00991693875255, 353.42931600671847, 353.84871305065315, 354.2681100187139, 354.68750885905683]\n"
          ]
        }
      ]
    },
    {
      "cell_type": "code",
      "source": [
        "a3, b = np.polyfit(T,Theta,1)\n",
        "plt.scatter(T,Theta)\n",
        "Fit = []\n",
        "for i in T:\n",
        "  Fit.append(a3*i+b)\n",
        "plt.plot(T, Fit)\n",
        "\n",
        "print(a3)"
      ],
      "metadata": {
        "colab": {
          "base_uri": "https://localhost:8080/",
          "height": 284
        },
        "id": "MO2inIhgPqZg",
        "outputId": "e234324f-b46d-41a3-cbe6-7b4addfeaf5b"
      },
      "execution_count": null,
      "outputs": [
        {
          "output_type": "stream",
          "name": "stdout",
          "text": [
            "1.7188433822146654\n"
          ]
        },
        {
          "output_type": "display_data",
          "data": {
            "text/plain": [
              "<Figure size 432x288 with 1 Axes>"
            ],
            "image/png": "[encoded data removed]"
          },
          "metadata": {
            "needs_background": "light"
          }
        }
      ]
    },
    {
      "cell_type": "code",
      "source": [
        "Alpha = [.001, .002, .0001]\n",
        "dTheta = [a, a2, a3]\n",
        "c, b = np.polyfit(Alpha, dTheta,1)\n",
        "plt.scatter(Alpha, dTheta)\n",
        "Theta = []\n",
        "for i in Alpha:\n",
        "  Theta.append(c*i+b)\n",
        "\n",
        "plt.plot(Alpha, Theta)\n",
        "\n",
        "print(c*1.1*(10**-8)*3600)\n",
        "\n"
      ],
      "metadata": {
        "colab": {
          "base_uri": "https://localhost:8080/",
          "height": 282
        },
        "id": "shnmJ53rPtaQ",
        "outputId": "58a97c64-b4bf-4bee-eb54-8210e22a8d3b"
      },
      "execution_count": null,
      "outputs": [
        {
          "output_type": "stream",
          "name": "stdout",
          "text": [
            "0.45682872021149734\n"
          ]
        },
        {
          "output_type": "display_data",
          "data": {
            "text/plain": [
              "<Figure size 432x288 with 1 Axes>"
            ],
            "image/png": "[encoded data removed]"
          },
          "metadata": {
            "needs_background": "light"
          }
        }
      ]
    },
    {
      "cell_type": "markdown",
      "source": [
        "My final Answer ends up being 45.6 arcyears/century. The error percentage for this is approximately 6% which is acceptable. However, I think that could have been accounted for the initial velocity was more accurate and in some other areas of my calculation including my timestep"
      ],
      "metadata": {
        "id": "XRbnn9wpHOfS"
      }
    },
    {
      "cell_type": "code",
      "source": [],
      "metadata": {
        "id": "zgI9Yf-LNUXA"
      },
      "execution_count": null,
      "outputs": []
    }
  ]
}