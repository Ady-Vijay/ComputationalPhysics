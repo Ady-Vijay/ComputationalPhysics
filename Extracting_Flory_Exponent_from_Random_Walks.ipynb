{
  "nbformat": 4,
  "nbformat_minor": 0,
  "metadata": {
    "colab": {
      "provenance": []
    },
    "kernelspec": {
      "name": "python3",
      "display_name": "Python 3"
    },
    "language_info": {
      "name": "python"
    }
  },
  "cells": [
    {
      "cell_type": "code",
      "execution_count": null,
      "metadata": {
        "id": "s_fltY71P7P-"
      },
      "outputs": [],
      "source": [
        "import math\n",
        "import numpy as np\n",
        "import matplotlib.pyplot as plt"
      ]
    },
    {
      "cell_type": "code",
      "source": [
        "def create_matrix(length):\n",
        "    return [[0 for j in range(length)] for i in range(length)]"
      ],
      "metadata": {
        "id": "m7Yt-UGTQH3i"
      },
      "execution_count": null,
      "outputs": []
    },
    {
      "cell_type": "code",
      "source": [
        "def average(arr):\n",
        "    if not arr:\n",
        "        return 0  # return 0 if the array is empty\n",
        "    return sum(arr) / len(arr)"
      ],
      "metadata": {
        "id": "Tapo9nw8c-HQ"
      },
      "execution_count": null,
      "outputs": []
    },
    {
      "cell_type": "code",
      "source": [
        "def up(x,y,map):\n",
        "  map[x][y-1] = 1\n",
        "  return x,y-1\n",
        "\n",
        "def down(x,y,map):\n",
        "  map[x][y+1] = 1\n",
        "  return x,y+1\n",
        "\n",
        "def left(x,y,map):\n",
        "  map[x-1][y] = 1\n",
        "  return x-1,y\n",
        "\n",
        "def right(x,y,map):\n",
        "  map[x+1][y] = 1\n",
        "  return x+1,y\n",
        "\n",
        "def direction(d,x,y,map):\n",
        "  if(d == 0):\n",
        "    return up(x,y,map)\n",
        "  elif(d == 1):\n",
        "    return down(x,y,map)\n",
        "  elif(d == 2):\n",
        "    return right(x,y,map)\n",
        "  else:\n",
        "    return left(x,y,map)\n"
      ],
      "metadata": {
        "id": "oEeeKdl7RIeN"
      },
      "execution_count": null,
      "outputs": []
    },
    {
      "cell_type": "code",
      "source": [
        "def partA():\n",
        "  rsq = []\n",
        "  stdeviation = []\n",
        "  for n in range(4,100):\n",
        "    avgr = []\n",
        "    for i in range(20000):\n",
        "      mapmeasure = create_matrix(101)\n",
        "      mapmeasure[50][50] = 1\n",
        "      x = 50\n",
        "      y = 50\n",
        "      for j in range(n):\n",
        "        d = np.random.randint(0,4)\n",
        "        x,y = direction(d,x,y, mapmeasure)\n",
        "      #print(x , y)\n",
        "      avgr.append((x-50)**2 + (y-50)**2)\n",
        "    rsq.append(average(avgr))\n",
        "    stdeviation.append(np.std(avgr))\n",
        "\n",
        "  return rsq,stdeviation\n"
      ],
      "metadata": {
        "id": "ixhmzZErQN3p"
      },
      "execution_count": null,
      "outputs": []
    },
    {
      "cell_type": "code",
      "source": [
        "R_squared,stdeviation = partA()"
      ],
      "metadata": {
        "id": "evoGUBvNQYi5"
      },
      "execution_count": null,
      "outputs": []
    },
    {
      "cell_type": "code",
      "source": [
        "arr = list(range(4, 100))\n",
        "\n",
        "plt.plot(arr,R_squared)\n",
        "plt.show()\n",
        "\n",
        "print(stdeviation)"
      ],
      "metadata": {
        "colab": {
          "base_uri": "https://localhost:8080/",
          "height": 467
        },
        "id": "WxVxi2u4mdE4",
        "outputId": "9c414cbd-b95a-49ce-f5df-e82bc4d935b0"
      },
      "execution_count": null,
      "outputs": [
        {
          "output_type": "display_data",
          "data": {
            "text/plain": [
              "<Figure size 640x480 with 1 Axes>"
            ],
            "image/png": "[encoded data removed]"
          },
          "metadata": {}
        },
        {
          "output_type": "stream",
          "name": "stdout",
          "text": [
            "[3.4894388073155835, 4.469898593928055, 5.504572309453296, 6.426693532447304, 7.41128045886809, 8.517864295702298, 9.493742728766144, 10.656544723314402, 11.575112873747711, 12.400901412397408, 13.340804797312643, 14.455115046238822, 15.424350156489576, 16.49082281027845, 17.589239367010727, 18.451823849148354, 19.51717592276096, 20.515089467024026, 21.03669404611856, 22.553189950869477, 23.312631493677415, 24.260624146958794, 25.348067412723992, 26.369192994098245, 27.648832660891852, 28.898100864243656, 29.710095948010668, 30.579364617990347, 31.51477920976125, 32.513385619464486, 33.09058978259529, 34.341776293604845, 35.69821809992762, 36.582737563501176, 37.5642757788567, 38.20418640882174, 38.82658925517409, 40.11337497443964, 41.98458001111836, 42.50417520714877, 43.497008530587486, 44.170503372273224, 45.745137319610265, 46.151878521247646, 47.297165627445374, 47.98664304783155, 49.08139034664768, 50.682302220400366, 51.47267365495987, 52.506319179314026, 54.03257987094453, 53.68904454318404, 55.67954929549987, 57.334297336236716, 58.12239113448448, 57.465391106647836, 60.0094022458981, 61.56664456375708, 61.552729669446826, 62.57970095933665, 63.963596251618, 64.37467481051846, 65.69454541855055, 65.8824247653348, 67.26116170800204, 68.87739986701008, 70.58144602769201, 69.08379618521263, 71.86129302232183, 72.12110189923612, 73.8429846176331, 74.3566919285682, 76.03933828953275, 76.95064895762738, 77.17409271970743, 79.45398687919946, 78.62776015625779, 80.73471777717441, 81.69643806133777, 83.05062482100902, 83.18005060613993, 84.36569506404838, 83.8465597335991, 86.92909294361698, 87.56052174330621, 90.05540294729684, 91.01148698928064, 92.0748607164844, 92.52157837629015, 92.67672464454061, 91.8589459721262, 93.52820196518266, 94.77441774651005, 97.413243772908, 97.6734922056133, 97.42350106293655]\n"
          ]
        }
      ]
    },
    {
      "cell_type": "markdown",
      "source": [
        "We can see that  r<sup>2</sup> is linearly related to the n value, which corresponds with time. When we then look for (r<sup>2</sup>)<sup>1/2</sup>, we can see from an eyeball fit that the Flory exponent is approximately 1/2\n",
        "\n",
        "\n"
      ],
      "metadata": {
        "id": "greIA6Fpz6a1"
      }
    },
    {
      "cell_type": "code",
      "source": [
        "def up(x,y,map):\n",
        "  map[x][y-1] += 1\n",
        "  return x,y-1,map\n",
        "\n",
        "def down(x,y,map):\n",
        "  map[x][y+1] += 1\n",
        "  return x,y+1,map\n",
        "\n",
        "def left(x,y,map):\n",
        "  map[x-1][y] += 1\n",
        "  return x-1,y,map\n",
        "\n",
        "def right(x,y,map):\n",
        "  map[x+1][y] += 1\n",
        "  return x+1,y,map\n",
        "\n",
        "def directionSAW(x,y,map):\n",
        "  testSAW = False\n",
        "  cnt = 0\n",
        "  d = -1\n",
        "  while testSAW == False and cnt < 25:\n",
        "    d = np.random.randint(0,4)\n",
        "    cnt+=1\n",
        "    if(d == 0 and map[x][y-1] != 0):\n",
        "      testSAW = False\n",
        "      #print(\"fail\")\n",
        "    elif(d == 1 and map[x][y+1] != 0):\n",
        "      testSAW = False\n",
        "    elif(d == 2 and map[x+1][y] != 0):\n",
        "      testSAW = False\n",
        "    elif(d == 3 and map[x-1][y] != 0):\n",
        "      testSAW = False\n",
        "    else:\n",
        "      testSAW = True\n",
        "\n",
        "  if(d == 0):\n",
        "    return up(x,y,map)\n",
        "  if(d == 1):\n",
        "    return down(x,y,map)\n",
        "  if(d == 2):\n",
        "    return right(x,y,map)\n",
        "  if(d == 3):\n",
        "    return left(x,y,map)"
      ],
      "metadata": {
        "id": "VALxBIS40iiT"
      },
      "execution_count": null,
      "outputs": []
    },
    {
      "cell_type": "code",
      "source": [
        "def partB():\n",
        "  rsq = []\n",
        "  for n in range(4,50):\n",
        "    avgr = []\n",
        "    for i in range(10000):\n",
        "      mapmeasure = create_matrix(101)\n",
        "      mapmeasure[50][50] = 1\n",
        "      x = 50\n",
        "      y = 50\n",
        "      for j in range(n):\n",
        "        x,y,mapmeasure = directionSAW(x,y, mapmeasure)\n",
        "      if(np.max(mapmeasure)<=1):\n",
        "        avgr.append((x-50)**2 + (y-50)**2)\n",
        "\n",
        "    rsq.append(average(avgr))\n",
        "\n",
        "  return rsq"
      ],
      "metadata": {
        "id": "3saLHEV_B12A"
      },
      "execution_count": null,
      "outputs": []
    },
    {
      "cell_type": "code",
      "source": [
        "r2sq = partB()"
      ],
      "metadata": {
        "id": "JD6gK6usCMn_"
      },
      "execution_count": null,
      "outputs": []
    },
    {
      "cell_type": "code",
      "source": [
        "xaxis = list(range(4,50))\n",
        "plt.plot(xaxis,r2sq)"
      ],
      "metadata": {
        "id": "qo4J6IqaJeVE",
        "colab": {
          "base_uri": "https://localhost:8080/",
          "height": 447
        },
        "outputId": "b4138667-2b9f-4b9e-e17d-1ae515d3709e"
      },
      "execution_count": null,
      "outputs": [
        {
          "output_type": "execute_result",
          "data": {
            "text/plain": [
              "[<matplotlib.lines.Line2D at 0x7f608a4fbc10>]"
            ]
          },
          "metadata": {},
          "execution_count": 212
        },
        {
          "output_type": "display_data",
          "data": {
            "text/plain": [
              "<Figure size 640x480 with 1 Axes>"
            ],
            "image/png": "[encoded data removed]"
          },
          "metadata": {}
        }
      ]
    },
    {
      "cell_type": "code",
      "source": [
        "arr = []\n",
        "for i in range(len(r2sq)-1):\n",
        "  arr.append(r2sq[i+1]/r2sq[i])\n",
        "xlist = []\n",
        "for i in range(len(r2sq)-1):\n",
        "  xlist.append(1/(i+4))"
      ],
      "metadata": {
        "id": "TzJpvsSRfjjN"
      },
      "execution_count": null,
      "outputs": []
    },
    {
      "cell_type": "code",
      "source": [
        "plt.scatter(xlist,arr)\n",
        "\n",
        "a, b = np.polyfit(xlist,arr,1)\n",
        "print(a/2)"
      ],
      "metadata": {
        "colab": {
          "base_uri": "https://localhost:8080/",
          "height": 447
        },
        "id": "0u_fQkqokzkD",
        "outputId": "d0873f6e-d5b4-4c6d-b2a0-861d34139dbd"
      },
      "execution_count": null,
      "outputs": [
        {
          "output_type": "stream",
          "name": "stdout",
          "text": [
            "0.6700464202600824\n"
          ]
        },
        {
          "output_type": "display_data",
          "data": {
            "text/plain": [
              "<Figure size 640x480 with 1 Axes>"
            ],
            "image/png": "[encoded data removed]"
          },
          "metadata": {}
        }
      ]
    },
    {
      "cell_type": "markdown",
      "source": [
        "Using formula 1 we find the Flora exponent to be .6700. While this is innacurate to the real value, this can be explained as our data is not as accurate as it could be, owing to the low levels of runtime and resources that I could work with on this project."
      ],
      "metadata": {
        "id": "Dg4DUvHC3dwQ"
      }
    },
    {
      "cell_type": "markdown",
      "source": [
        "Using the same formula on partA we get the below value."
      ],
      "metadata": {
        "id": "qosrybev73OD"
      }
    },
    {
      "cell_type": "code",
      "source": [
        "arr = []\n",
        "for i in range(len(R_squared)-1):\n",
        "  arr.append(R_squared[i+1]/R_squared[i])\n",
        "xlist = []\n",
        "for i in range(len(R_squared)-1):\n",
        "  xlist.append(1/(i+4))\n",
        "\n",
        "plt.scatter(xlist,arr)\n",
        "\n",
        "a, b = np.polyfit(xlist,arr,1)\n",
        "print(a/2)"
      ],
      "metadata": {
        "colab": {
          "base_uri": "https://localhost:8080/",
          "height": 447
        },
        "id": "R7dDzR3c7yur",
        "outputId": "2f3946ea-3059-4f05-b18a-d5b3eb82235b"
      },
      "execution_count": null,
      "outputs": [
        {
          "output_type": "stream",
          "name": "stdout",
          "text": [
            "0.4956109672213829\n"
          ]
        },
        {
          "output_type": "display_data",
          "data": {
            "text/plain": [
              "<Figure size 640x480 with 1 Axes>"
            ],
            "image/png": "[encoded data removed]"
          },
          "metadata": {}
        }
      ]
    },
    {
      "cell_type": "markdown",
      "source": [
        "We can see that the value matches up to and is very similar to the value we obtained from the previous value."
      ],
      "metadata": {
        "id": "MRvuc4SSAyAM"
      }
    },
    {
      "cell_type": "markdown",
      "source": [
        "Part C"
      ],
      "metadata": {
        "id": "JBF1CUMDeM-T"
      }
    },
    {
      "cell_type": "code",
      "source": [
        "arr = list(range(4, 100))\n",
        "\n",
        "stdlistplus = np.add(R_squared, stdeviation)\n",
        "stdlistminus = np.subtract(R_squared, stdeviation)\n",
        "plt.plot(arr,R_squared)\n",
        "plt.plot(arr,stdlistplus)\n",
        "plt.plot(arr,stdlistminus)\n",
        "plt.show()\n",
        "\n",
        "print(stdeviation)"
      ],
      "metadata": {
        "colab": {
          "base_uri": "https://localhost:8080/",
          "height": 467
        },
        "id": "U8kJgaD9BD7i",
        "outputId": "7fa1928a-af05-43d2-8d91-910162b8c210"
      },
      "execution_count": null,
      "outputs": [
        {
          "output_type": "display_data",
          "data": {
            "text/plain": [
              "<Figure size 640x480 with 1 Axes>"
            ],
            "image/png": "[encoded data removed]"
          },
          "metadata": {}
        },
        {
          "output_type": "stream",
          "name": "stdout",
          "text": [
            "[3.4894388073155835, 4.469898593928055, 5.504572309453296, 6.426693532447304, 7.41128045886809, 8.517864295702298, 9.493742728766144, 10.656544723314402, 11.575112873747711, 12.400901412397408, 13.340804797312643, 14.455115046238822, 15.424350156489576, 16.49082281027845, 17.589239367010727, 18.451823849148354, 19.51717592276096, 20.515089467024026, 21.03669404611856, 22.553189950869477, 23.312631493677415, 24.260624146958794, 25.348067412723992, 26.369192994098245, 27.648832660891852, 28.898100864243656, 29.710095948010668, 30.579364617990347, 31.51477920976125, 32.513385619464486, 33.09058978259529, 34.341776293604845, 35.69821809992762, 36.582737563501176, 37.5642757788567, 38.20418640882174, 38.82658925517409, 40.11337497443964, 41.98458001111836, 42.50417520714877, 43.497008530587486, 44.170503372273224, 45.745137319610265, 46.151878521247646, 47.297165627445374, 47.98664304783155, 49.08139034664768, 50.682302220400366, 51.47267365495987, 52.506319179314026, 54.03257987094453, 53.68904454318404, 55.67954929549987, 57.334297336236716, 58.12239113448448, 57.465391106647836, 60.0094022458981, 61.56664456375708, 61.552729669446826, 62.57970095933665, 63.963596251618, 64.37467481051846, 65.69454541855055, 65.8824247653348, 67.26116170800204, 68.87739986701008, 70.58144602769201, 69.08379618521263, 71.86129302232183, 72.12110189923612, 73.8429846176331, 74.3566919285682, 76.03933828953275, 76.95064895762738, 77.17409271970743, 79.45398687919946, 78.62776015625779, 80.73471777717441, 81.69643806133777, 83.05062482100902, 83.18005060613993, 84.36569506404838, 83.8465597335991, 86.92909294361698, 87.56052174330621, 90.05540294729684, 91.01148698928064, 92.0748607164844, 92.52157837629015, 92.67672464454061, 91.8589459721262, 93.52820196518266, 94.77441774651005, 97.413243772908, 97.6734922056133, 97.42350106293655]\n"
          ]
        }
      ]
    },
    {
      "cell_type": "code",
      "source": [
        "arr = []\n",
        "for i in range(len(stdeviation)-1):\n",
        "  arr.append(stdeviation[i+1]/stdeviation[i])\n",
        "xlist = []\n",
        "for i in range(len(stdeviation)-1):\n",
        "  xlist.append(1/(i+4))\n",
        "\n",
        "a, b = np.polyfit(xlist,arr,1)\n",
        "print(a/2)"
      ],
      "metadata": {
        "colab": {
          "base_uri": "https://localhost:8080/"
        },
        "id": "pf9piR1AYHqF",
        "outputId": "bfd6da46-0fdc-43d8-f264-7d47487cdb9a"
      },
      "execution_count": null,
      "outputs": [
        {
          "output_type": "stream",
          "name": "stdout",
          "text": [
            "0.5538217411045069\n"
          ]
        }
      ]
    },
    {
      "cell_type": "markdown",
      "source": [
        "Above is the x value of the exponent we were trying to solve for."
      ],
      "metadata": {
        "id": "MR59HDfmeSRG"
      }
    },
    {
      "cell_type": "code",
      "source": [
        "def up(x,y,z,map):\n",
        "  map[x][y-1][z] += 1\n",
        "  return x,y-1,z,map\n",
        "\n",
        "def down(x,y,z,map):\n",
        "  map[x][y+1][z] += 1\n",
        "  return x,y+1,z,map\n",
        "\n",
        "def left(x,y,z,map):\n",
        "  map[x-1][y][z] += 1\n",
        "  return x-1,y,z,map\n",
        "\n",
        "def right(x,y,z,map):\n",
        "  map[x+1][y][z] += 1\n",
        "  return x+1,y,z,map\n",
        "\n",
        "def into(x,y,z,map):\n",
        "  map[x][y][z+1] += 1\n",
        "  return x,y,z+1,map\n",
        "\n",
        "def out(x,y,z,map):\n",
        "  map[x][y][z-1] += 1\n",
        "  return x,y,z-1,map\n",
        "\n",
        "def directionSAW(x,y,z,map):\n",
        "  testSAW = False\n",
        "  cnt = 0\n",
        "  d = -1\n",
        "  while testSAW == False and cnt < 25:\n",
        "    d = np.random.randint(0,6)\n",
        "    cnt+=1\n",
        "    if(d == 0 and map[x][y-1][z]!= 0):\n",
        "      testSAW = False\n",
        "      #print(\"fail\")\n",
        "    elif(d == 1 and map[x][y+1][z]!= 0):\n",
        "      testSAW = False\n",
        "    elif(d == 2 and map[x+1][y][z] != 0):\n",
        "      testSAW = False\n",
        "    elif(d == 3 and map[x-1][y][z] != 0):\n",
        "      testSAW = False\n",
        "    elif(d == 4 and map[x][y][z+1] != 0):\n",
        "      testSAW = False\n",
        "    elif(d == 5 and map[x][y][z-1] != 0):\n",
        "      testSAW = False\n",
        "    else:\n",
        "      testSAW = True\n",
        "\n",
        "  if(d == 0):\n",
        "    return up(x,y,z,map)\n",
        "  if(d == 1):\n",
        "    return down(x,y,z,map)\n",
        "  if(d == 2):\n",
        "    return right(x,y,z,map)\n",
        "  if(d == 3):\n",
        "    return left(x,y,z,map)\n",
        "  if(d == 4):\n",
        "    return into(x,y,z,map)\n",
        "  if(d == 5):\n",
        "    return out(x,y,z,map)\n",
        "\n",
        "def create_matrix3D(length):\n",
        "    return [[[0 for j in range(length)]for k in range(length)] for i in range(length)]"
      ],
      "metadata": {
        "id": "ilwiXIE4fGbL"
      },
      "execution_count": null,
      "outputs": []
    },
    {
      "cell_type": "code",
      "source": [
        "def partD():\n",
        "  rsq = []\n",
        "  for n in range(4,50):\n",
        "    avgr = []\n",
        "    for i in range(500):\n",
        "      mapmeasure = create_matrix3D(51)\n",
        "      mapmeasure[25][25][25] = 1\n",
        "      x = 25\n",
        "      y = 25\n",
        "      z = 25\n",
        "      for j in range(n):\n",
        "        x,y,z,mapmeasure = directionSAW(x,y,z, mapmeasure)\n",
        "      if(np.max(mapmeasure)<=1):\n",
        "        avgr.append((x-25)**2 + (y-25)**2 + (z-25)**2)\n",
        "\n",
        "    rsq.append(average(avgr))\n",
        "\n",
        "  return rsq"
      ],
      "metadata": {
        "id": "H1Clv1CgeWKN"
      },
      "execution_count": null,
      "outputs": []
    },
    {
      "cell_type": "code",
      "source": [
        "rsq = partD()"
      ],
      "metadata": {
        "id": "pc2BICJNhxW2"
      },
      "execution_count": null,
      "outputs": []
    },
    {
      "cell_type": "code",
      "source": [
        "rsq"
      ],
      "metadata": {
        "colab": {
          "base_uri": "https://localhost:8080/"
        },
        "id": "kv6U4uPlhz_G",
        "outputId": "b4bb2487-2dd1-4337-ca41-a0c45360aea8"
      },
      "execution_count": null,
      "outputs": [
        {
          "output_type": "execute_result",
          "data": {
            "text/plain": [
              "[5.504,\n",
              " 6.888,\n",
              " 8.596,\n",
              " 10.244,\n",
              " 12.056,\n",
              " 13.796,\n",
              " 15.344,\n",
              " 17.284,\n",
              " 19.164,\n",
              " 20.82,\n",
              " 21.544,\n",
              " 23.736,\n",
              " 26.516,\n",
              " 27.408,\n",
              " 29.384,\n",
              " 33.068,\n",
              " 34.248,\n",
              " 33.768,\n",
              " 38.276,\n",
              " 38.764,\n",
              " 40.26052104208417,\n",
              " 43.48897795591182,\n",
              " 45.69477911646587,\n",
              " 45.708,\n",
              " 47.324,\n",
              " 46.98,\n",
              " 51.434869739478955,\n",
              " 54.377510040160644,\n",
              " 54.088,\n",
              " 55.864,\n",
              " 58.76953907815631,\n",
              " 56.868,\n",
              " 60.752,\n",
              " 67.008,\n",
              " 62.876,\n",
              " 68.376,\n",
              " 73.208,\n",
              " 70.588,\n",
              " 70.48496993987976,\n",
              " 74.57515030060121,\n",
              " 76.72289156626506,\n",
              " 77.072,\n",
              " 83.12625250501002,\n",
              " 80.116,\n",
              " 87.36418511066398,\n",
              " 87.84738955823293]"
            ]
          },
          "metadata": {},
          "execution_count": 303
        }
      ]
    },
    {
      "cell_type": "code",
      "source": [
        "arr = []\n",
        "for i in range(len(r2sq)-1):\n",
        "  arr.append(r2sq[i+1]/r2sq[i])\n",
        "xlist = []\n",
        "for i in range(len(r2sq)-1):\n",
        "  xlist.append(1/(i+4))\n",
        "\n",
        "a, b = np.polyfit(xlist,arr,1)\n",
        "print(a/2)"
      ],
      "metadata": {
        "colab": {
          "base_uri": "https://localhost:8080/"
        },
        "id": "eAEq8h51lKm-",
        "outputId": "84920c33-7faa-46d4-94c7-bc1618b33f4a"
      },
      "execution_count": null,
      "outputs": [
        {
          "output_type": "stream",
          "name": "stdout",
          "text": [
            "0.6700464202600824\n"
          ]
        }
      ]
    },
    {
      "cell_type": "markdown",
      "source": [
        "it seems that independent of the number of dimensions the value of the Flory exponent remains the same. It seems that my calculation for both values is the same and equidistant from both values while fully populating both fields. I believe this might have to do with the size of my sample but unfortunately I do not have access to the computing resources that I would need to fix this error."
      ],
      "metadata": {
        "id": "ahKnuzi4xNaH"
      }
    }
  ]
}